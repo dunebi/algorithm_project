{
 "cells": [
  {
   "cell_type": "code",
   "execution_count": 1,
   "id": "61fd4b24",
   "metadata": {
    "scrolled": true
   },
   "outputs": [
    {
     "data": {
      "text/plain": [
       "\"\\nInfo.\\n\\n전역변수들\\n1. 역과 주변역 정보 및 시간을 저장할 stations 변수\\nstations = {'역명': {'주변역' : 시간, '주변역' : 시간}, '역명' : {'주변역' : 시간, '주변역' : 시간}, ......}\\n\\n\\n\""
      ]
     },
     "execution_count": 1,
     "metadata": {},
     "output_type": "execute_result"
    }
   ],
   "source": [
    "'''\n",
    "Info.\n",
    "\n",
    "전역변수들\n",
    "1. 역과 주변역 정보 및 시간을 저장할 stations 변수\n",
    "stations = {'역명': {'주변역' : 시간, '주변역' : 시간}, '역명' : {'주변역' : 시간, '주변역' : 시간}, ......}\n",
    "\n",
    "\n",
    "'''"
   ]
  },
  {
   "cell_type": "code",
   "execution_count": 2,
   "id": "eca0dc9e",
   "metadata": {},
   "outputs": [],
   "source": [
    "import json\n",
    "\n",
    "with open('stations.json', encoding='utf-8-sig')as json_file:  #Open Saved Json file to Dictionary\n",
    "    stations = json.load(json_file)\n",
    "with open('stations_info.json', encoding='utf-8-sig')as json_file:  #Open Saved Json file to Dictionary\n",
    "    stations_info = json.load(json_file)\n",
    "with open('transfer_data.json', encoding='utf-8-sig')as json_file:  #Open Saved Json file to Dictionary\n",
    "    transfer_data = json.load(json_file)"
   ]
  },
  {
   "cell_type": "code",
   "execution_count": 3,
   "id": "3bb8e02d",
   "metadata": {},
   "outputs": [],
   "source": [
    "from collections import deque"
   ]
  },
  {
   "cell_type": "code",
   "execution_count": 4,
   "id": "813e2d52",
   "metadata": {},
   "outputs": [],
   "source": [
    "def getLine(st1, st2):\n",
    "    line1 = stations_info[st1]\n",
    "    line2 = stations_info[st2]\n",
    "    \n",
    "    link = []\n",
    "    for num1 in line1:\n",
    "        for num2 in line2:\n",
    "            if num1 == num2:\n",
    "                link.append(num1)\n",
    "    return link"
   ]
  },
  {
   "cell_type": "code",
   "execution_count": 20,
   "id": "f0c065f5",
   "metadata": {},
   "outputs": [],
   "source": [
    "def backtracking(line, station, n, time, visited = {}): #start station은 line input을 \"\"로(empty string)\n",
    "    if time > n: return #소요시간이 n분을 넘어갈 경우 해당 역은 탐색하지 않는다\n",
    "    \n",
    "    around_stations = stations[station]\n",
    "    \n",
    "    if station in visited:\n",
    "        if visited[station] > time:\n",
    "            visited[station] = time\n",
    "        else:\n",
    "            return\n",
    "    else:\n",
    "        visited[station] = time\n",
    "    \n",
    "    for st_name, takes_time in around_stations.items():#주변 역들 탐색\n",
    "        next_time = time + takes_time #다음 역까지 걸린 시간\n",
    "        link = getLine(station, st_name)\n",
    "        for riding in link:\n",
    "            if line == \"\": #출발역 예외처리\n",
    "                backtracking(riding, st_name, n, next_time, visited)\n",
    "            if riding == line:\n",
    "                backtracking(riding, st_name, n, next_time + 0.5, visited) #정차시간 추가\n",
    "            else:\n",
    "                try:\n",
    "                    transfer_time = transfer_data[station][line][riding]\n",
    "                except KeyError:\n",
    "                    continue\n",
    "                backtracking(riding, st_name, n, next_time + 3.0 + transfer_time, visited) #정차시간 + 환승시간 + 대기시간\n",
    "    st_list = list(visited.keys())\n",
    "    return st_list"
   ]
  },
  {
   "cell_type": "code",
   "execution_count": 21,
   "id": "f3200a7d",
   "metadata": {},
   "outputs": [],
   "source": [
    "def bfs(station, n, time, visited = []):\n",
    "    queue = deque([(station, time)])\n",
    "    while queue:\n",
    "        st_info = queue.popleft()\n",
    "        st_name = st_info[0]\n",
    "        elapsed_time = st_info[1]\n",
    "        \n",
    "        try:\n",
    "            around_stations = stations[st_name]\n",
    "        except KeyError:\n",
    "            continue\n",
    "        visited.append(st_name)\n",
    "        \n",
    "        for next_name, takes_time in around_stations.items():\n",
    "            if next_name in visited:\n",
    "                continue\n",
    "            next_time = elapsed_time + takes_time + 0.5 #0.5=정차시간\n",
    "            if next_time <= n:\n",
    "                queue.append((next_name, next_time))\n",
    "    visited = set(visited)\n",
    "    return visited\n",
    "        "
   ]
  },
  {
   "cell_type": "code",
   "execution_count": 22,
   "id": "b5e45fcb",
   "metadata": {},
   "outputs": [],
   "source": [
    "def getInput():\n",
    "    n = int(input('사람이 몇 명입니까? '))\n",
    "    station_list = []\n",
    "    #n = 4\n",
    "    #station_list = ['충무로', '선정릉', '잠실', '건대입구']\n",
    "    #n = 1\n",
    "    #station_list = ['잠실']\n",
    "    \n",
    "    for i in range(n):\n",
    "        temp = input('탑승 역을 입력하시오: ')\n",
    "        station_list.append(temp)\n",
    "        \n",
    "    return station_list, n"
   ]
  },
  {
   "cell_type": "code",
   "execution_count": 23,
   "id": "93b0cd31",
   "metadata": {},
   "outputs": [],
   "source": [
    "def binarySearch(accessible_list, station):\n",
    "    size = len(accessible_list)\n",
    "    left = 0\n",
    "    right = size - 1\n",
    "    \n",
    "    while left <= right:\n",
    "        mid = int((left + right) / 2)\n",
    "        if accessible_list[mid] == station:\n",
    "            return True\n",
    "        elif accessible_list[mid] > station:\n",
    "            right = mid - 1\n",
    "        else:\n",
    "            left = mid + 1\n",
    "    return False"
   ]
  },
  {
   "cell_type": "code",
   "execution_count": 24,
   "id": "4cf818c8",
   "metadata": {},
   "outputs": [],
   "source": [
    "def getList(accessible_list, n): #갈수있는 역들 모음(2차원행렬), 사람 수\n",
    "    duplicate_list = []\n",
    "    for station in accessible_list[0]:\n",
    "        duplicated = True\n",
    "        for i in range(1, n):\n",
    "            duplicated = duplicated and binarySearch(accessible_list[i], station)\n",
    "        if duplicated:\n",
    "            duplicate_list.append(station)\n",
    "    return duplicate_list"
   ]
  },
  {
   "cell_type": "code",
   "execution_count": 25,
   "id": "0a4539e0",
   "metadata": {},
   "outputs": [],
   "source": [
    "def main():\n",
    "    station_list, n = getInput()\n",
    "    #accessible_list = []\n",
    "    \n",
    "    while True:\n",
    "        accessible_list = []\n",
    "        time = int(input(\"input time: \"))\n",
    "        if time == -1: break\n",
    "    \n",
    "        for i in range(n):\n",
    "            possible_station = backtracking(\"\", station_list[i], time, 0.0, {})\n",
    "            #print(\"=================================\")\n",
    "            possible_station = sorted(possible_station)\n",
    "            accessible_list.append(possible_station)\n",
    "    \n",
    "        #print(accessible_list)\n",
    "        dest_stations = []\n",
    "        dest_stations = getList(accessible_list, n)\n",
    "\n",
    "        print(dest_stations)\n",
    "        #print(accessible_list)\n",
    "        #for i in range(len(accessible_list[0]) - 1):\n",
    "        #    print(accessible_list[0][i] < accessible_list[0][i+1])"
   ]
  },
  {
   "cell_type": "code",
   "execution_count": 28,
   "id": "8bd5ab6f",
   "metadata": {},
   "outputs": [
    {
     "name": "stdout",
     "output_type": "stream",
     "text": [
      "사람이 몇 명입니까? 4\n",
      "탑승 역을 입력하시오: 충무로\n",
      "탑승 역을 입력하시오: 건대입구\n",
      "탑승 역을 입력하시오: 선정릉\n",
      "탑승 역을 입력하시오: 잠실\n",
      "input time: 13\n",
      "['왕십리']\n",
      "input time: 14\n",
      "['왕십리']\n",
      "input time: 15\n",
      "['건대입구', '왕십리']\n",
      "input time: 16\n",
      "['건대입구', '왕십리']\n",
      "input time: 17\n",
      "['건대입구', '고속터미널', '왕십리']\n",
      "input time: 18\n",
      "['건대입구', '고속터미널', '교대', '구의', '군자', '마장', '상왕십리', '성수', '왕십리', '한양대', '행당']\n",
      "input time: 19\n",
      "['강변', '건대입구', '고속터미널', '교대', '구의', '군자', '답십리', '뚝섬', '마장', '상왕십리', '성수', '신당', '왕십리', '잠원', '한양대', '행당']\n",
      "input time: 20\n",
      "['강남', '강변', '건대입구', '고속터미널', '교대', '구의', '군자', '남부터미널', '답십리', '뚝섬', '뚝섬유원지', '마장', '사평', '상왕십리', '성수', '신금호', '신당', '신사', '어린이대공원', '왕십리', '응봉', '잠원', '한양대', '행당']\n",
      "input time: -1\n"
     ]
    }
   ],
   "source": [
    "if __name__ == '__main__':\n",
    "    main()"
   ]
  },
  {
   "cell_type": "markdown",
   "id": "453a7cb8",
   "metadata": {},
   "source": [
    " *송민수의 아이디어*\n",
    "\n",
    "4개의 기준 역이 있다고 칠 때\n",
    "원래는 1번째로 나오는 배열의 역 잡고 for문으로 다 돌리면서 각 역마다 (정렬해놓고) 이진탐색을 돌릴까 했는데\n",
    "이걸 반으로 나눠서 1,3번째 배열에서 기준을 각각 잡아서 for문 돌리고 divide and conquer방식으로 점점 합쳐가면 된다.\n"
   ]
  },
  {
   "cell_type": "code",
   "execution_count": null,
   "id": "c6673b9a",
   "metadata": {},
   "outputs": [],
   "source": []
  }
 ],
 "metadata": {
  "kernelspec": {
   "display_name": "Python 3",
   "language": "python",
   "name": "python3"
  },
  "language_info": {
   "codemirror_mode": {
    "name": "ipython",
    "version": 3
   },
   "file_extension": ".py",
   "mimetype": "text/x-python",
   "name": "python",
   "nbconvert_exporter": "python",
   "pygments_lexer": "ipython3",
   "version": "3.7.10"
  }
 },
 "nbformat": 4,
 "nbformat_minor": 5
}
