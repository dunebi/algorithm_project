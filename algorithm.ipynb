{
 "cells": [
  {
   "cell_type": "code",
   "execution_count": 3,
   "id": "eca0dc9e",
   "metadata": {},
   "outputs": [],
   "source": [
    "import json\n",
    "\n",
    "with open('stations.json', encoding='utf-8-sig')as json_file:  #Open Saved Json file to Dictionary\n",
    "    stations = json.load(json_file)\n",
    "with open('stations_info.json', encoding='utf-8-sig')as json_file:  #Open Saved Json file to Dictionary\n",
    "    stations_info = json.load(json_file)\n",
    "with open('transfer_data.json', encoding='utf-8-sig')as json_file:  #Open Saved Json file to Dictionary\n",
    "    transfer_data = json.load(json_file)"
   ]
  },
  {
   "cell_type": "code",
   "execution_count": 4,
   "id": "813e2d52",
   "metadata": {},
   "outputs": [],
   "source": [
    "def getLine(st1, st2):\n",
    "    line1 = stations_info[st1]\n",
    "    line2 = stations_info[st2]\n",
    "    \n",
    "    link = []\n",
    "    for num1 in line1:\n",
    "        for num2 in line2:\n",
    "            if num1 == num2:\n",
    "                link.append(num1)\n",
    "    return link"
   ]
  },
  {
   "cell_type": "code",
   "execution_count": 5,
   "id": "f0c065f5",
   "metadata": {},
   "outputs": [],
   "source": [
    "def backtracking(line, station, n, time, visited = {}): #start station은 line input을 \"\"로(empty string)\n",
    "    if time > n: return #소요시간이 n분을 넘어갈 경우 해당 역은 탐색하지 않는다\n",
    "    \n",
    "    around_stations = stations[station]\n",
    "    \n",
    "    if station in visited:\n",
    "        if visited[station] > time:\n",
    "            visited[station] = time\n",
    "        else:\n",
    "            return\n",
    "    else:\n",
    "        visited[station] = time\n",
    "    \n",
    "    for st_name, takes_time in around_stations.items():#주변 역들 탐색\n",
    "        next_time = time + takes_time #다음 역까지 걸린 시간\n",
    "        link = getLine(station, st_name)\n",
    "        for riding in link:\n",
    "            if line == \"\": #출발역 예외처리\n",
    "                backtracking(riding, st_name, n, next_time, visited)\n",
    "            if riding == line:\n",
    "                backtracking(riding, st_name, n, next_time + 0.5, visited) #정차시간 추가\n",
    "            else:\n",
    "                try:\n",
    "                    transfer_time = transfer_data[station][line][riding]\n",
    "                except KeyError:\n",
    "                    continue\n",
    "                backtracking(riding, st_name, n, next_time + 3.0 + transfer_time, visited) #정차시간 + 환승시간 + 대기시간\n",
    "    st_list = list(visited.keys())\n",
    "    return st_list"
   ]
  },
  {
   "cell_type": "code",
   "execution_count": 57,
   "id": "b5e45fcb",
   "metadata": {},
   "outputs": [],
   "source": [
    "def getInput():\n",
    "    n = int(input('How many people? '))\n",
    "    station_list = []\n",
    "\n",
    "    for i in range(n):\n",
    "        temp = input('Input departure station: ')\n",
    "        station_list.append(temp)\n",
    "        \n",
    "    return station_list, n"
   ]
  },
  {
   "cell_type": "markdown",
   "id": "d56b80ab",
   "metadata": {},
   "source": [
    "getList() 에서 3가지의 다른 방법을 써서 찾아야 한다\n",
    "\n",
    "1. 브루트포스 방식\n",
    "\n",
    "2. 삽입정렬 후 이진탐색 --> 역이 1000개도 안되니 정렬 알고리즘에서의 비교는 크게 의미가 없을 것으로 보임\n",
    "\n",
    "3. 해시테이블 --> 딕셔너리 형태로 표현하면 되지않을까"
   ]
  },
  {
   "cell_type": "code",
   "execution_count": 7,
   "id": "28a34132",
   "metadata": {},
   "outputs": [],
   "source": [
    "def bruteforce(accessible_list, n, cnt):\n",
    "    duplicate_list = []\n",
    "    for station in accessible_list[0]:\n",
    "        duplicated = True\n",
    "        for i in range(1, n): #accessible_list[i] 에 대하여 전수조사\n",
    "            flag = False\n",
    "            for st in accessible_list[i]:\n",
    "                cnt = cnt + 1\n",
    "                if st == station:\n",
    "                    flag = True\n",
    "                    break\n",
    "            if flag == False:\n",
    "                duplicated = False\n",
    "                break\n",
    "        if duplicated == False:\n",
    "            continue\n",
    "        duplicate_list.append(station)\n",
    "    return duplicate_list, cnt            "
   ]
  },
  {
   "cell_type": "code",
   "execution_count": 8,
   "id": "ee7bcb68",
   "metadata": {},
   "outputs": [],
   "source": [
    "def insertion_sort(arr, cnt):\n",
    "    for end in range(1, len(arr)):\n",
    "        for i in range(end, 0, -1):\n",
    "            if arr[i - 1] > arr[i]:\n",
    "                cnt = cnt + 1\n",
    "                arr[i - 1], arr[i] = arr[i], arr[i - 1]\n",
    "    return cnt"
   ]
  },
  {
   "cell_type": "code",
   "execution_count": 9,
   "id": "93b0cd31",
   "metadata": {},
   "outputs": [],
   "source": [
    "def binarySearch(accessible_list, station, cnt):\n",
    "    size = len(accessible_list)\n",
    "    left = 0\n",
    "    right = size - 1\n",
    "    \n",
    "    while left <= right:\n",
    "        mid = int((left + right) / 2)\n",
    "        cnt = cnt + 1\n",
    "        if accessible_list[mid] == station:\n",
    "            return True\n",
    "        elif accessible_list[mid] > station:\n",
    "            right = mid - 1\n",
    "        else:\n",
    "            left = mid + 1\n",
    "    return False"
   ]
  },
  {
   "cell_type": "code",
   "execution_count": 10,
   "id": "05ab5b38",
   "metadata": {},
   "outputs": [],
   "source": [
    "def binary(accessible_list, n, cnt):\n",
    "    #1. accessible_list를 삽입정렬의 방식으로 sort한다\n",
    "    for acc in accessible_list:\n",
    "        cnt = cnt + insertion_sort(acc, 0)\n",
    "        \n",
    "    #2. accessible_list[0]에 나오는 역들을 기준으로 이진 탐색을 진행한다\n",
    "    duplicate_list = []\n",
    "    for station in accessible_list[0]:\n",
    "        duplicated = True\n",
    "        for i in range(1, n):\n",
    "            duplicated = duplicated and binarySearch(accessible_list[i], station, cnt)\n",
    "        if duplicated:\n",
    "            duplicate_list.append(station)\n",
    "    return duplicate_list, cnt"
   ]
  },
  {
   "cell_type": "code",
   "execution_count": 11,
   "id": "924ffe6a",
   "metadata": {},
   "outputs": [],
   "source": [
    "def hashing(accesible_list, n, cnt):\n",
    "    #1. dictionary형태로 hashing 테이블을 구성한다\n",
    "    table = []\n",
    "    \n",
    "    for i in range(len(accesible_list)):\n",
    "        dic = {station : 1 for station in accesible_list[i]}\n",
    "        cnt = cnt + len(accesible_list[i])\n",
    "        table.append(dic)\n",
    "\n",
    "    #2. 역들을 탐색한다\n",
    "    duplicate_list = []\n",
    "    for station in accesible_list[0]:\n",
    "        duplicated = True\n",
    "        for i in range(1, n):\n",
    "            cnt = cnt + 1\n",
    "            val = table[i].get(station)\n",
    "            if val == None:\n",
    "                duplicated = False\n",
    "                break\n",
    "        if duplicated:\n",
    "            duplicate_list.append(station)\n",
    "    return duplicate_list, cnt"
   ]
  },
  {
   "cell_type": "code",
   "execution_count": 12,
   "id": "2c13e48f",
   "metadata": {},
   "outputs": [],
   "source": [
    "def getList(accessible_list, n, method): #갈수있는 역들 모음(2차원배열), 사람 수\n",
    "    duplicate_list, cnt = method(accessible_list, n, cnt=0)\n",
    "    return duplicate_list, cnt"
   ]
  },
  {
   "cell_type": "code",
   "execution_count": 63,
   "id": "0a4539e0",
   "metadata": {},
   "outputs": [],
   "source": [
    "def solve(station_list, n, func):\n",
    "    time = 5\n",
    "    while True:\n",
    "        accessible_list = []    \n",
    "        \n",
    "        #백트래킹으로 일정 시간 안에 갈 수 있는 역들을 찾는 부분\n",
    "        for i in range(n):\n",
    "            possible_station = backtracking(\"\", station_list[i], time, 0.0, {})\n",
    "            accessible_list.append(possible_station)\n",
    "            \n",
    "        dest_stations = []\n",
    "        dest_stations, cnt = getList(accessible_list, n, method=func)\n",
    "        if dest_stations: break\n",
    "        else: time = time + 5\n",
    "    \n",
    "    #더 짧은 시간 안에 갈 수 있는 역들 재탐색\n",
    "    for i in range(time - 1, time - 5, -1):\n",
    "        accessible_list = []\n",
    "        for j in range(n):\n",
    "            possible_station = backtracking(\"\", station_list[j], i, 0.0, {})\n",
    "            accessible_list.append(possible_station)\n",
    "        r_dest_stations, r_cnt = getList(accessible_list, n, method=func)\n",
    "        if r_dest_stations:\n",
    "            dest_stations = r_dest_stations\n",
    "            cnt = r_cnt\n",
    "            time = i\n",
    "            continue\n",
    "        else: break\n",
    "    \n",
    "    print(\"Recommand Station: \", dest_stations)\n",
    "    print(\"Time Complexity: \", cnt)"
   ]
  },
  {
   "cell_type": "code",
   "execution_count": 64,
   "id": "ee2b1724",
   "metadata": {},
   "outputs": [],
   "source": [
    "def main():\n",
    "    func_list = [bruteforce, binary, hashing]\n",
    "    func_name = ['Brute-Force', 'Binary-Search', 'Hashing']\n",
    "    station_list, n = getInput()\n",
    "    print('==========================')\n",
    "    \n",
    "    for i in range(3):\n",
    "        print(func_name[i])\n",
    "        solve(station_list, n, func_list[i])\n",
    "        print('==========================')"
   ]
  },
  {
   "cell_type": "code",
   "execution_count": 65,
   "id": "e74fbb4d",
   "metadata": {
    "scrolled": true
   },
   "outputs": [
    {
     "name": "stdout",
     "output_type": "stream",
     "text": [
      "How many people? 4\n",
      "Input departure station: 충무로\n",
      "Input departure station: 건대입구\n",
      "Input departure station: 선정릉\n",
      "Input departure station: 잠실\n",
      "==========================\n",
      "Brute-Force\n",
      "Recommand Station:  ['왕십리']\n",
      "Time Complexity:  3519\n",
      "==========================\n",
      "Binary-Search\n",
      "Recommand Station:  ['왕십리']\n",
      "Time Complexity:  2548\n",
      "==========================\n",
      "Hashing\n",
      "Recommand Station:  ['왕십리']\n",
      "Time Complexity:  290\n",
      "==========================\n"
     ]
    }
   ],
   "source": [
    "if __name__ == '__main__':\n",
    "    main()"
   ]
  },
  {
   "cell_type": "markdown",
   "id": "a891ae19",
   "metadata": {},
   "source": [
    "=================정답데이터==================="
   ]
  },
  {
   "cell_type": "code",
   "execution_count": 16,
   "id": "8bd5ab6f",
   "metadata": {
    "scrolled": true
   },
   "outputs": [
    {
     "name": "stdout",
     "output_type": "stream",
     "text": [
      "사람이 몇 명입니까? 4\n",
      "탑승 역을 입력하시오: 충무로\n",
      "탑승 역을 입력하시오: 건대입구\n",
      "탑승 역을 입력하시오: 선정릉\n",
      "탑승 역을 입력하시오: 잠실\n",
      "['건대입구', '왕십리']\n",
      "예상 시간:  15\n"
     ]
    }
   ],
   "source": [
    "if __name__ == '__main__':\n",
    "    main()"
   ]
  },
  {
   "cell_type": "code",
   "execution_count": 36,
   "id": "58d73161",
   "metadata": {},
   "outputs": [
    {
     "data": {
      "text/plain": [
       "[<function __main__.bruteforce(accessible_list, n, cnt)>,\n",
       " <function __main__.binary(accessible_list, n, cnt)>,\n",
       " <function __main__.hashing(accesible_list, n, cnt)>]"
      ]
     },
     "execution_count": 36,
     "metadata": {},
     "output_type": "execute_result"
    }
   ],
   "source": [
    "func_list = [bruteforce, binary, hashing]\n",
    "func_list"
   ]
  },
  {
   "cell_type": "code",
   "execution_count": null,
   "id": "b0137aa2",
   "metadata": {},
   "outputs": [],
   "source": []
  }
 ],
 "metadata": {
  "kernelspec": {
   "display_name": "Python 3",
   "language": "python",
   "name": "python3"
  },
  "language_info": {
   "codemirror_mode": {
    "name": "ipython",
    "version": 3
   },
   "file_extension": ".py",
   "mimetype": "text/x-python",
   "name": "python",
   "nbconvert_exporter": "python",
   "pygments_lexer": "ipython3",
   "version": "3.7.10"
  }
 },
 "nbformat": 4,
 "nbformat_minor": 5
}
