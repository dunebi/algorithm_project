{
 "cells": [
  {
   "cell_type": "code",
   "execution_count": 7,
   "id": "61fd4b24",
   "metadata": {},
   "outputs": [
    {
     "data": {
      "text/plain": [
       "\"\\nInfo.\\n\\n전역변수들\\n1. 역과 주변역 정보 및 시간을 저장할 stations 변수\\nstations = {'역명': {'주변역' : 시간, '주변역' : 시간}, '역명' : {'주변역' : 시간, '주변역' : 시간}, ......}\\n\\n\\n\""
      ]
     },
     "execution_count": 7,
     "metadata": {},
     "output_type": "execute_result"
    }
   ],
   "source": [
    "'''\n",
    "Info.\n",
    "\n",
    "전역변수들\n",
    "1. 역과 주변역 정보 및 시간을 저장할 stations 변수\n",
    "stations = {'역명': {'주변역' : 시간, '주변역' : 시간}, '역명' : {'주변역' : 시간, '주변역' : 시간}, ......}\n",
    "\n",
    "\n",
    "'''"
   ]
  },
  {
   "cell_type": "code",
   "execution_count": 1,
   "id": "5e9935b6",
   "metadata": {},
   "outputs": [],
   "source": [
    "stations = {'충무로':{'동대입구' : 2, '을지로3가' : 2, '동대문역사문화공원' : 2, '명동' : 2},\n",
    "'잠실':{'잠실새내':1.2, '잠실나루':1,'몽촌토성':0.8, '석촌':1.2},\n",
    "'마포구청':{'망원':1, '월드컵경기장':0.8},\n",
    "'강동구청':{'천호':0.9,'몽촌토성':1.6},\n",
    "'잠실나루':{'잠실':1,'강변':2.3},\n",
    "'강변':{'잠실나루':2.3,'구의':1.6},\n",
    "'잠실새내':{'잠실':1.2,'종합운동장':2.3},\n",
    "'종합운동장':{'잠실새내':2.3,'삼성':2.1},\n",
    "'삼성':{'종합운동장':2.1,'선릉':4.0}}"
   ]
  },
  {
   "cell_type": "code",
   "execution_count": 6,
   "id": "6296a958",
   "metadata": {},
   "outputs": [],
   "source": [
    "from collections import deque"
   ]
  },
  {
   "cell_type": "code",
   "execution_count": 9,
   "id": "eeb5e463",
   "metadata": {},
   "outputs": [
    {
     "data": {
      "text/plain": [
       "2"
      ]
     },
     "execution_count": 9,
     "metadata": {},
     "output_type": "execute_result"
    }
   ],
   "source": [
    "q = deque([(1,2), (3,4)])\n",
    "q[0][1]"
   ]
  },
  {
   "cell_type": "code",
   "execution_count": 68,
   "id": "f0c065f5",
   "metadata": {},
   "outputs": [],
   "source": [
    "def backtracking(station, n, time, visited = []):\n",
    "    if time > n: return #소요시간이 n분을 넘어갈 경우 해당 역은 탐색하지 않는다\n",
    "    \n",
    "    #stations에 해당 역명이 없을 경우 탐색을 종료한다\n",
    "    try:\n",
    "        around_stations = stations[station]\n",
    "    except KeyError:\n",
    "        return\n",
    "    print(\"탐색 중인 역: \", station)\n",
    "    visited.append(station) #station을 방문\n",
    "    \n",
    "    for st_name, takes_time in around_stations.items():#주변 역들 탐색\n",
    "        if st_name in visited:\n",
    "            continue\n",
    "        backtracking(st_name, n, time + takes_time, visited)\n",
    "    return visited"
   ]
  },
  {
   "cell_type": "code",
   "execution_count": 67,
   "id": "76a2ccc4",
   "metadata": {},
   "outputs": [],
   "source": [
    "def bfs(station, n, time, visited = []):\n",
    "    queue = deque([(station, time)])\n",
    "    while queue:\n",
    "        st_info = queue.popleft()\n",
    "        st_name = st_info[0]\n",
    "        elapsed_time = st_info[1]\n",
    "        \n",
    "        try:\n",
    "            around_stations = stations[st_name]\n",
    "        except KeyError:\n",
    "            continue\n",
    "        visited.append(st_name)\n",
    "        \n",
    "        for next_name, takes_time in around_stations.items():\n",
    "            if next_name in visited:\n",
    "                continue\n",
    "            next_time = elapsed_time + takes_time\n",
    "            if next_time <= n:\n",
    "                queue.append((next_name, next_time))\n",
    "        #print(queue)\n",
    "    \n",
    "    return visited\n",
    "        "
   ]
  },
  {
   "cell_type": "code",
   "execution_count": 71,
   "id": "f26a9376",
   "metadata": {},
   "outputs": [],
   "source": [
    "def main():\n",
    "    start = input(\"input your station : \")\n",
    "    limit = 5\n",
    "    station_list = backtracking(start, limit, 0.0, [])\n",
    "    print('====================================')\n",
    "    print(limit, \"분 안에 갈 수 있는 역 : \", station_list)"
   ]
  },
  {
   "cell_type": "code",
   "execution_count": 72,
   "id": "cc25bf6c",
   "metadata": {},
   "outputs": [
    {
     "name": "stdout",
     "output_type": "stream",
     "text": [
      "input your station : 잠실\n",
      "탐색 중인 역:  잠실\n",
      "탐색 중인 역:  잠실새내\n",
      "탐색 중인 역:  종합운동장\n",
      "탐색 중인 역:  잠실나루\n",
      "탐색 중인 역:  강변\n",
      "====================================\n",
      "5 분 안에 갈 수 있는 역 :  ['잠실', '잠실새내', '종합운동장', '잠실나루', '강변']\n"
     ]
    }
   ],
   "source": [
    "#backtracking\n",
    "if __name__ == '__main__':\n",
    "    main()"
   ]
  },
  {
   "cell_type": "code",
   "execution_count": 73,
   "id": "5d314137",
   "metadata": {},
   "outputs": [
    {
     "name": "stdout",
     "output_type": "stream",
     "text": [
      "input your station : 잠실\n",
      "탐색 중인 역:  잠실\n",
      "탐색 중인 역:  잠실새내\n",
      "탐색 중인 역:  종합운동장\n",
      "탐색 중인 역:  잠실나루\n",
      "탐색 중인 역:  강변\n",
      "====================================\n",
      "5 분 안에 갈 수 있는 역 :  ['잠실', '잠실새내', '종합운동장', '잠실나루', '강변']\n"
     ]
    }
   ],
   "source": [
    "#bfs\n",
    "if __name__ == '__main__':\n",
    "    main()"
   ]
  },
  {
   "cell_type": "code",
   "execution_count": null,
   "id": "5a50ff8e",
   "metadata": {},
   "outputs": [],
   "source": []
  }
 ],
 "metadata": {
  "kernelspec": {
   "display_name": "Python 3",
   "language": "python",
   "name": "python3"
  },
  "language_info": {
   "codemirror_mode": {
    "name": "ipython",
    "version": 3
   },
   "file_extension": ".py",
   "mimetype": "text/x-python",
   "name": "python",
   "nbconvert_exporter": "python",
   "pygments_lexer": "ipython3",
   "version": "3.7.10"
  }
 },
 "nbformat": 4,
 "nbformat_minor": 5
}
